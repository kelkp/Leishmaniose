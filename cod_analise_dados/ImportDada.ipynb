{
 "cells": [
  {
   "cell_type": "code",
   "execution_count": null,
   "metadata": {},
   "outputs": [],
   "source": [
    "import ftplib \n",
    "from ftplib import FTP"
   ]
  },
  {
   "cell_type": "code",
   "execution_count": null,
   "metadata": {},
   "outputs": [],
   "source": [
    "HOSTNAME = 'ftp.datasus.gov.br'\n",
    "ftp_server = ftplib.FTP(HOSTNAME)\n",
    "ftp_server.login() \n",
    "ftp_server.cwd('dissemin/publicos/SINAN/DADOS/FINAIS/')"
   ]
  },
  {
   "cell_type": "code",
   "execution_count": null,
   "metadata": {},
   "outputs": [],
   "source": [
    "filename = \"LEIVBR07.dbc\"\n",
    "with open(filename, \"wb\") as file:    \n",
    "    ftp_server.retrbinary(f\"RETR {filename}\", file.write) "
   ]
  }
 ],
 "metadata": {
  "kernelspec": {
   "display_name": "Python 3.9.13 64-bit (windows store)",
   "language": "python",
   "name": "python3"
  },
  "language_info": {
   "name": "python",
   "version": "3.9.13"
  },
  "orig_nbformat": 4,
  "vscode": {
   "interpreter": {
    "hash": "7806e9fb557b0b2c97e2821684145109130ae2b8db1e8eced8cdfd397a1dc22e"
   }
  }
 },
 "nbformat": 4,
 "nbformat_minor": 2
}
