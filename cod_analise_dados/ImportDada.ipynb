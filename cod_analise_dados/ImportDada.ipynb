{
 "cells": [
  {
   "cell_type": "code",
   "execution_count": 1,
   "metadata": {},
   "outputs": [
    {
     "ename": "ModuleNotFoundError",
     "evalue": "No module named 'rpy2'",
     "output_type": "error",
     "traceback": [
      "\u001b[1;31m---------------------------------------------------------------------------\u001b[0m",
      "\u001b[1;31mModuleNotFoundError\u001b[0m                       Traceback (most recent call last)",
      "\u001b[1;32mg:\\Meu Drive\\Colab\\Lab_IV\\Leishmaniose\\cod_analise_dados\\ImportDada.ipynb Célula: 1\u001b[0m in \u001b[0;36m<cell line: 5>\u001b[1;34m()\u001b[0m\n\u001b[0;32m      <a href='vscode-notebook-cell:/g%3A/Meu%20Drive/Colab/Lab_IV/Leishmaniose/cod_analise_dados/ImportDada.ipynb#ch0000000?line=2'>3</a>\u001b[0m \u001b[39mimport\u001b[39;00m \u001b[39msubprocess\u001b[39;00m\n\u001b[0;32m      <a href='vscode-notebook-cell:/g%3A/Meu%20Drive/Colab/Lab_IV/Leishmaniose/cod_analise_dados/ImportDada.ipynb#ch0000000?line=3'>4</a>\u001b[0m \u001b[39mimport\u001b[39;00m \u001b[39mpip\u001b[39;00m\u001b[39m.\u001b[39;00m\u001b[39m_internal\u001b[39;00m\u001b[39m.\u001b[39;00m\u001b[39mcommands\u001b[39;00m \u001b[39mas\u001b[39;00m \u001b[39mcommands\u001b[39;00m\n\u001b[1;32m----> <a href='vscode-notebook-cell:/g%3A/Meu%20Drive/Colab/Lab_IV/Leishmaniose/cod_analise_dados/ImportDada.ipynb#ch0000000?line=4'>5</a>\u001b[0m \u001b[39mfrom\u001b[39;00m \u001b[39mrpy2\u001b[39;00m\u001b[39m.\u001b[39;00m\u001b[39mrobjects\u001b[39;00m\u001b[39m.\u001b[39;00m\u001b[39mpackages\u001b[39;00m \u001b[39mimport\u001b[39;00m importr\n",
      "\u001b[1;31mModuleNotFoundError\u001b[0m: No module named 'rpy2'"
     ]
    }
   ],
   "source": [
    "import ftplib \n",
    "from ftplib import FTP\n",
    "import subprocess\n",
    "import pip._internal.commands as commands\n",
    "from rpy2.robjects.packages import importr"
   ]
  },
  {
   "cell_type": "code",
   "execution_count": 11,
   "metadata": {},
   "outputs": [],
   "source": [
    "HOSTNAME = 'ftp.datasus.gov.br'\n",
    "ftp_server = ftplib.FTP(HOSTNAME)\n",
    "ftp_server.login() \n",
    "ftp_server.cwd('dissemin/publicos/SINAN/DADOS/FINAIS/')\n",
    "filename = \"LEIVBR07.dbc\"\n",
    "with open(filename, \"wb\") as file:    \n",
    "    ftp_server.retrbinary(f\"RETR {filename}\", file.write) "
   ]
  },
  {
   "cell_type": "code",
   "execution_count": 30,
   "metadata": {},
   "outputs": [],
   "source": [
    "def dbccsv(raw_filename):\n",
    "    dbccsv_path = \"dbc_csv.R\" + \" \" + raw_filename\n",
    "\n",
    "    try:\n",
    "        r_script_path = commands.getstatusoutput('which Rscript')[1]\n",
    "        subprocess.call(r_script_path + \" --vanilla \" + dbccsv_path, shell=True)\n",
    "        return True\n",
    "    except:\n",
    "        print(\"(Rscript) Error converting file: \" + raw_filename)\n",
    "\n",
    "    return False"
   ]
  },
  {
   "cell_type": "code",
   "execution_count": 31,
   "metadata": {},
   "outputs": [
    {
     "name": "stdout",
     "output_type": "stream",
     "text": [
      "(Rscript) Error converting file: LEIVBR07.dbc\n"
     ]
    }
   ],
   "source": [
    "raw_filename=\"LEIVBR07.dbc\"\n",
    "teste=dbccsv(raw_filename)"
   ]
  }
 ],
 "metadata": {
  "kernelspec": {
   "display_name": "Python 3.9.13 64-bit (windows store)",
   "language": "python",
   "name": "python3"
  },
  "language_info": {
   "codemirror_mode": {
    "name": "ipython",
    "version": 3
   },
   "file_extension": ".py",
   "mimetype": "text/x-python",
   "name": "python",
   "nbconvert_exporter": "python",
   "pygments_lexer": "ipython3",
   "version": "3.9.13"
  },
  "orig_nbformat": 4,
  "vscode": {
   "interpreter": {
    "hash": "7806e9fb557b0b2c97e2821684145109130ae2b8db1e8eced8cdfd397a1dc22e"
   }
  }
 },
 "nbformat": 4,
 "nbformat_minor": 2
}
