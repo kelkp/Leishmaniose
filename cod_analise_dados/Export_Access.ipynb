{
 "cells": [
  {
   "cell_type": "code",
   "execution_count": 1,
   "metadata": {},
   "outputs": [
    {
     "ename": "ModuleNotFoundError",
     "evalue": "No module named 'pyodbc'",
     "output_type": "error",
     "traceback": [
      "\u001b[1;31m---------------------------------------------------------------------------\u001b[0m",
      "\u001b[1;31mModuleNotFoundError\u001b[0m                       Traceback (most recent call last)",
      "\u001b[1;32mg:\\Meu Drive\\Colab\\Lab_IV\\Leishmaniose\\cod_analise_dados\\Export_Access.ipynb Célula: 1\u001b[0m in \u001b[0;36m<cell line: 3>\u001b[1;34m()\u001b[0m\n\u001b[0;32m      <a href='vscode-notebook-cell:/g%3A/Meu%20Drive/Colab/Lab_IV/Leishmaniose/cod_analise_dados/Export_Access.ipynb#ch0000000?line=0'>1</a>\u001b[0m \u001b[39mfrom\u001b[39;00m \u001b[39mos\u001b[39;00m \u001b[39mimport\u001b[39;00m listdir\n\u001b[0;32m      <a href='vscode-notebook-cell:/g%3A/Meu%20Drive/Colab/Lab_IV/Leishmaniose/cod_analise_dados/Export_Access.ipynb#ch0000000?line=1'>2</a>\u001b[0m \u001b[39mfrom\u001b[39;00m \u001b[39mos\u001b[39;00m\u001b[39m.\u001b[39;00m\u001b[39mpath\u001b[39;00m \u001b[39mimport\u001b[39;00m isfile, join\n\u001b[1;32m----> <a href='vscode-notebook-cell:/g%3A/Meu%20Drive/Colab/Lab_IV/Leishmaniose/cod_analise_dados/Export_Access.ipynb#ch0000000?line=2'>3</a>\u001b[0m \u001b[39mimport\u001b[39;00m \u001b[39mpyodbc\u001b[39;00m\n\u001b[0;32m      <a href='vscode-notebook-cell:/g%3A/Meu%20Drive/Colab/Lab_IV/Leishmaniose/cod_analise_dados/Export_Access.ipynb#ch0000000?line=3'>4</a>\u001b[0m pyodbc\u001b[39m.\u001b[39mdrivers()\n",
      "\u001b[1;31mModuleNotFoundError\u001b[0m: No module named 'pyodbc'"
     ]
    }
   ],
   "source": [
    "from os import listdir\n",
    "from os.path import isfile, join\n",
    "import pyodbc\n",
    "pyodbc.drivers()"
   ]
  },
  {
   "cell_type": "code",
   "execution_count": null,
   "metadata": {},
   "outputs": [],
   "source": [
    "DBFile = r'BD/EstudoLeishmaniose.accdb'\n",
    "path = 'Out'\n",
    "files = [f for f in listdir(path) if isfile(join(path, f))]\n",
    "\n",
    "for item in files:\n",
    "      exFile = r'Out/'+item\n",
    "      conn = pyodbc.connect('DRIVER={Microsoft Access Driver (*.mdb, *.accdb)};DBQ='+DBFile)\n",
    "      \n",
    "      # APPEND TO LOCAL TABLE\n",
    "      sql = \"\"\"INSERT INTO TB_DataSUS \n",
    "            SELECT * FROM [Excel 12.0 Xml; HDR = Yes;Database={myfile}].[Sheet 1$];\n",
    "            \"\"\"\n",
    "      curs = conn.cursor()\n",
    "      curs.execute(sql.format(myfile = exFile))\n",
    "      conn.commit()"
   ]
  }
 ],
 "metadata": {
  "kernelspec": {
   "display_name": "Python 3.9.13 64-bit (windows store)",
   "language": "python",
   "name": "python3"
  },
  "language_info": {
   "codemirror_mode": {
    "name": "ipython",
    "version": 3
   },
   "file_extension": ".py",
   "mimetype": "text/x-python",
   "name": "python",
   "nbconvert_exporter": "python",
   "pygments_lexer": "ipython3",
   "version": "3.9.13"
  },
  "orig_nbformat": 4,
  "vscode": {
   "interpreter": {
    "hash": "7806e9fb557b0b2c97e2821684145109130ae2b8db1e8eced8cdfd397a1dc22e"
   }
  }
 },
 "nbformat": 4,
 "nbformat_minor": 2
}
