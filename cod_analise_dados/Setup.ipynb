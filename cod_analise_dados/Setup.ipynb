{
 "cells": [
  {
   "cell_type": "markdown",
   "metadata": {},
   "source": [
    "Análise Espaço Temporal dos Casos de Leishmaniose com a Utilização de Técnicas de Geoprocessamento de Imagens"
   ]
  },
  {
   "cell_type": "code",
   "execution_count": 3,
   "metadata": {},
   "outputs": [
    {
     "ename": "ModuleNotFoundError",
     "evalue": "No module named 'pandas'",
     "output_type": "error",
     "traceback": [
      "\u001b[1;31m---------------------------------------------------------------------------\u001b[0m",
      "\u001b[1;31mModuleNotFoundError\u001b[0m                       Traceback (most recent call last)",
      "\u001b[1;32mc:\\Users\\Kelly\\OneDrive\\Faculdade\\8 - Período\\LABORATORIO DE PROJETO IV\\Leishmaniose\\cod_analise_dados\\Setup.ipynb Célula: 2\u001b[0m in \u001b[0;36m<cell line: 2>\u001b[1;34m()\u001b[0m\n\u001b[0;32m      <a href='vscode-notebook-cell:/c%3A/Users/Kelly/OneDrive/Faculdade/8%20-%20Per%C3%ADodo/LABORATORIO%20DE%20PROJETO%20IV/Leishmaniose/cod_analise_dados/Setup.ipynb#ch0000001?line=0'>1</a>\u001b[0m \u001b[39m#Bibliotecas\u001b[39;00m\n\u001b[1;32m----> <a href='vscode-notebook-cell:/c%3A/Users/Kelly/OneDrive/Faculdade/8%20-%20Per%C3%ADodo/LABORATORIO%20DE%20PROJETO%20IV/Leishmaniose/cod_analise_dados/Setup.ipynb#ch0000001?line=1'>2</a>\u001b[0m \u001b[39mimport\u001b[39;00m \u001b[39mSINAN\u001b[39;00m\u001b[39m.\u001b[39;00m\u001b[39mpy\u001b[39;00m \u001b[39mas\u001b[39;00m \u001b[39mSiNAN\u001b[39;00m\n\u001b[0;32m      <a href='vscode-notebook-cell:/c%3A/Users/Kelly/OneDrive/Faculdade/8%20-%20Per%C3%ADodo/LABORATORIO%20DE%20PROJETO%20IV/Leishmaniose/cod_analise_dados/Setup.ipynb#ch0000001?line=2'>3</a>\u001b[0m \u001b[39mimport\u001b[39;00m \u001b[39mpandas\u001b[39;00m \u001b[39mas\u001b[39;00m \u001b[39mpd\u001b[39;00m\n",
      "File \u001b[1;32mc:\\Users\\Kelly\\OneDrive\\Faculdade\\8 - Período\\LABORATORIO DE PROJETO IV\\Leishmaniose\\cod_analise_dados\\SINAN.py:7\u001b[0m, in \u001b[0;36m<module>\u001b[1;34m\u001b[0m\n\u001b[0;32m      4\u001b[0m \u001b[39mimport\u001b[39;00m \u001b[39mwarnings\u001b[39;00m\n\u001b[0;32m      6\u001b[0m \u001b[39m# import download as download\u001b[39;00m\n\u001b[1;32m----> 7\u001b[0m \u001b[39mimport\u001b[39;00m \u001b[39mpandas\u001b[39;00m \u001b[39mas\u001b[39;00m \u001b[39mpd\u001b[39;00m\n\u001b[0;32m      8\u001b[0m \u001b[39mfrom\u001b[39;00m \u001b[39mdbfread\u001b[39;00m \u001b[39mimport\u001b[39;00m DBF\n\u001b[0;32m     10\u001b[0m \u001b[39mfrom\u001b[39;00m \u001b[39mpysus\u001b[39;00m\u001b[39m.\u001b[39;00m\u001b[39monline_data\u001b[39;00m \u001b[39mimport\u001b[39;00m CACHEPATH, _fetch_file\n",
      "\u001b[1;31mModuleNotFoundError\u001b[0m: No module named 'pandas'"
     ]
    }
   ],
   "source": [
    "#Bibliotecas\n",
    "import SINAN.py as SiNAN\n",
    "import pandas as pd"
   ]
  }
 ],
 "metadata": {
  "kernelspec": {
   "display_name": "Python 3.9.13 64-bit (windows store)",
   "language": "python",
   "name": "python3"
  },
  "language_info": {
   "codemirror_mode": {
    "name": "ipython",
    "version": 3
   },
   "file_extension": ".py",
   "mimetype": "text/x-python",
   "name": "python",
   "nbconvert_exporter": "python",
   "pygments_lexer": "ipython3",
   "version": "3.9.13"
  },
  "orig_nbformat": 4,
  "vscode": {
   "interpreter": {
    "hash": "92ca0fdc6ffd01e9aebf7e7d9dbec2a6ee5ad092e7996f54b3a4bd50b61bc693"
   }
  }
 },
 "nbformat": 4,
 "nbformat_minor": 2
}
