{
 "cells": [
  {
   "cell_type": "code",
   "execution_count": null,
   "metadata": {},
   "outputs": [],
   "source": []
  }
 ],
 "metadata": {
  "kernelspec": {
   "display_name": "Python 3.9.13 64-bit (windows store)",
   "language": "python",
   "name": "python3"
  },
  "language_info": {
   "name": "python",
   "version": "3.9.13"
  },
  "orig_nbformat": 4,
  "vscode": {
   "interpreter": {
    "hash": "92ca0fdc6ffd01e9aebf7e7d9dbec2a6ee5ad092e7996f54b3a4bd50b61bc693"
   }
  }
 },
 "nbformat": 4,
 "nbformat_minor": 2
}
